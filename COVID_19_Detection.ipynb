{
  "nbformat": 4,
  "nbformat_minor": 0,
  "metadata": {
    "colab": {
      "name": "COVID-19 Detection.ipynb",
      "private_outputs": true,
      "provenance": [],
      "mount_file_id": "1v3PpSwHjgSCy6Mr_-TaSpOigvNNRzVjz",
      "authorship_tag": "ABX9TyOZuNelVKox/xuqJra4Icbv",
      "include_colab_link": true
    },
    "kernelspec": {
      "name": "python3",
      "display_name": "Python 3"
    },
    "language_info": {
      "name": "python"
    }
  },
  "cells": [
    {
      "cell_type": "markdown",
      "metadata": {
        "id": "view-in-github",
        "colab_type": "text"
      },
      "source": [
        "<a href=\"https://colab.research.google.com/github/manishkumarray/COVID-19-Detection-on-X-Ray-Images/blob/main/COVID_19_Detection.ipynb\" target=\"_parent\"><img src=\"https://colab.research.google.com/assets/colab-badge.svg\" alt=\"Open In Colab\"/></a>"
      ]
    },
    {
      "cell_type": "markdown",
      "metadata": {
        "id": "UDcJlkcEZ8Fh"
      },
      "source": [
        "# **Name: Manish Kumar Ray**\n",
        "\n",
        "# **Eno.: 18012011041**\n",
        "\n",
        "# **Batch: DL-1**\n",
        "\n",
        "## **Project: COVID-19 Detection on X-Ray Images**"
      ]
    },
    {
      "cell_type": "code",
      "metadata": {
        "id": "7F4mjLY1Iljb"
      },
      "source": [
        ""
      ],
      "execution_count": null,
      "outputs": []
    },
    {
      "cell_type": "code",
      "metadata": {
        "id": "kZ4olN_YHMyK"
      },
      "source": [
        "!unzip \"/content/drive/MyDrive/Colab Notebooks/dl dataset/COVID-19-master.zip\" -d \"/content/drive/MyDrive/Colab Notebooks/dl dataset/\""
      ],
      "execution_count": null,
      "outputs": []
    },
    {
      "cell_type": "code",
      "metadata": {
        "id": "kYFoWuCjLqGu"
      },
      "source": [
        "import numpy as np\n",
        "import matplotlib.pyplot as plt\n",
        "import keras\n",
        "from keras.layers import *\n",
        "from keras.models import * \n",
        "from keras.preprocessing import image"
      ],
      "execution_count": null,
      "outputs": []
    },
    {
      "cell_type": "markdown",
      "metadata": {
        "id": "zM6zQgQWMNV5"
      },
      "source": [
        "## **Buiding the CNN Architecture**"
      ]
    },
    {
      "cell_type": "code",
      "metadata": {
        "id": "Q9l7Ts-ILrgf"
      },
      "source": [
        "# CNN Based Model in Keras\n",
        "\n",
        "model = Sequential()\n",
        "model.add(Conv2D(32,kernel_size=(3,3),activation='relu',input_shape=(224,224,3)))\n",
        "model.add(Conv2D(64,(3,3),activation='relu'))\n",
        "model.add(MaxPooling2D(pool_size=(2,2)))\n",
        "model.add(Dropout(0.25))\n",
        "\n",
        "model.add(Conv2D(64,(3,3),activation='relu'))\n",
        "model.add(MaxPooling2D(pool_size=(2,2)))\n",
        "model.add(Dropout(0.25))\n",
        "\n",
        "model.add(Conv2D(128,(3,3),activation='relu'))\n",
        "model.add(MaxPooling2D(pool_size=(2,2)))\n",
        "model.add(Dropout(0.25))\n",
        "\n",
        "model.add(Flatten())\n",
        "model.add(Dense(64,activation='relu'))\n",
        "model.add(Dropout(0.5))\n",
        "model.add(Dense(1,activation='sigmoid'))\n",
        "\n",
        "model.compile(loss=keras.losses.binary_crossentropy,optimizer='adam',metrics=['accuracy'])"
      ],
      "execution_count": null,
      "outputs": []
    },
    {
      "cell_type": "code",
      "metadata": {
        "id": "GbBYZaC_Lwhx"
      },
      "source": [
        "model.summary()"
      ],
      "execution_count": null,
      "outputs": []
    },
    {
      "cell_type": "markdown",
      "metadata": {
        "id": "79RoSGUKMSul"
      },
      "source": [
        "## **Data Augmentation, Normalizing Data & Training the Model**"
      ]
    },
    {
      "cell_type": "code",
      "metadata": {
        "id": "TUZ6W__9Lypl"
      },
      "source": [
        "# Train from scratch\n",
        "train_datagen = image.ImageDataGenerator(\n",
        "    rescale = 1./255,\n",
        "    shear_range = 0.2,\n",
        "    zoom_range = 0.2,\n",
        "    horizontal_flip = True,\n",
        ")\n",
        "\n",
        "test_dataset = image.ImageDataGenerator(rescale=1./255)"
      ],
      "execution_count": null,
      "outputs": []
    },
    {
      "cell_type": "code",
      "metadata": {
        "id": "dYjK3XYDL2V6"
      },
      "source": [
        "train_generator = train_datagen.flow_from_directory(\n",
        "    '/content/drive/MyDrive/Colab Notebooks/dl dataset/COVID-19-master/Train',\n",
        "    target_size = (224,224),\n",
        "    batch_size = 32,\n",
        "    class_mode = 'binary')"
      ],
      "execution_count": null,
      "outputs": []
    },
    {
      "cell_type": "code",
      "metadata": {
        "id": "c5amyGaaL4wS"
      },
      "source": [
        "train_generator.class_indices"
      ],
      "execution_count": null,
      "outputs": []
    },
    {
      "cell_type": "code",
      "metadata": {
        "id": "C1qzdSv5L6j3"
      },
      "source": [
        "validation_generator = test_dataset.flow_from_directory(\n",
        "    '/content/drive/MyDrive/Colab Notebooks/dl dataset/COVID-19-master/Val',\n",
        "    target_size = (224,224),\n",
        "    batch_size = 32,\n",
        "    class_mode = 'binary')"
      ],
      "execution_count": null,
      "outputs": []
    },
    {
      "cell_type": "code",
      "metadata": {
        "id": "THNse5eFL8xA"
      },
      "source": [
        "hist = model.fit_generator(\n",
        "    train_generator,\n",
        "    steps_per_epoch=7,\n",
        "    epochs = 10,\n",
        "    validation_data = validation_generator,\n",
        "    validation_steps=2\n",
        ")"
      ],
      "execution_count": null,
      "outputs": []
    },
    {
      "cell_type": "code",
      "metadata": {
        "id": "KyJBYX3ZSXb8"
      },
      "source": [
        "model.save(\"/content/drive/MyDrive/Colab Notebooks/dl dataset/COVID-19-master/model_adv.h5\")"
      ],
      "execution_count": null,
      "outputs": []
    },
    {
      "cell_type": "code",
      "metadata": {
        "id": "F3gju-kaMBw1"
      },
      "source": [
        "model.evaluate_generator(train_generator)"
      ],
      "execution_count": null,
      "outputs": []
    },
    {
      "cell_type": "code",
      "metadata": {
        "id": "H6aw7L7RMDkB"
      },
      "source": [
        "model.evaluate_generator(validation_generator)"
      ],
      "execution_count": null,
      "outputs": []
    },
    {
      "cell_type": "markdown",
      "metadata": {
        "id": "86-OJe9aMfQL"
      },
      "source": [
        "## **Model Evaluation**"
      ]
    },
    {
      "cell_type": "code",
      "metadata": {
        "id": "zfHG5U0lMFPi"
      },
      "source": [
        "model = load_model('/content/drive/MyDrive/Colab Notebooks/dl dataset/COVID-19-master/model_adv.h5')"
      ],
      "execution_count": null,
      "outputs": []
    },
    {
      "cell_type": "code",
      "metadata": {
        "id": "LBlIc3mYMHt7"
      },
      "source": [
        "import os"
      ],
      "execution_count": null,
      "outputs": []
    },
    {
      "cell_type": "code",
      "metadata": {
        "id": "j-L21oVIMm84"
      },
      "source": [
        "train_generator.class_indices"
      ],
      "execution_count": null,
      "outputs": []
    },
    {
      "cell_type": "code",
      "metadata": {
        "id": "4mtzcTMUMoyh"
      },
      "source": [
        "y_actual = []\n",
        "y_test = []"
      ],
      "execution_count": null,
      "outputs": []
    },
    {
      "cell_type": "code",
      "metadata": {
        "id": "JidwV0i9Mqok"
      },
      "source": [
        "from PIL import Image\n",
        "for i in os.listdir(\"/content/drive/MyDrive/Colab Notebooks/dl dataset/COVID-19-master/Val/Normal/\"):\n",
        "  img = image.load_img(\"/content/drive/MyDrive/Colab Notebooks/dl dataset/COVID-19-master/Val/Normal/\"+i, target_size = (224, 224))\n",
        "  img = image.img_to_array(img)\n",
        "  img = np.expand_dims(img, axis=0)\n",
        "  p = model.predict(img)\n",
        "  y_test.append(p[0,0])\n",
        "  y_actual.append(1)"
      ],
      "execution_count": null,
      "outputs": []
    },
    {
      "cell_type": "markdown",
      "metadata": {
        "id": "2h5tWk93MwSe"
      },
      "source": [
        "## **Confusion Matrix**"
      ]
    },
    {
      "cell_type": "code",
      "metadata": {
        "id": "oQaFz2XBMusU"
      },
      "source": [
        "y_actual = np.array(y_actual)\n",
        "y_test = np.array(y_test)"
      ],
      "execution_count": null,
      "outputs": []
    },
    {
      "cell_type": "code",
      "metadata": {
        "id": "oupaLqDhM1-Y"
      },
      "source": [
        "from sklearn.metrics import confusion_matrix"
      ],
      "execution_count": null,
      "outputs": []
    },
    {
      "cell_type": "code",
      "metadata": {
        "id": "S6M8NlzYM2vo"
      },
      "source": [
        "cm = confusion_matrix(y_actual, y_test)"
      ],
      "execution_count": null,
      "outputs": []
    },
    {
      "cell_type": "code",
      "metadata": {
        "id": "fpMfqEoUM4tK"
      },
      "source": [
        "import seaborn as sns\n",
        "sns.heatmap(cm, cmap=None, annot=True)"
      ],
      "execution_count": null,
      "outputs": []
    },
    {
      "cell_type": "markdown",
      "metadata": {
        "id": "nZgwaGx8M9GA"
      },
      "source": [
        "## **Plotting Training & Validation Loss**"
      ]
    },
    {
      "cell_type": "code",
      "metadata": {
        "id": "NzkyZEm4M6th"
      },
      "source": [
        "import matplotlib.pyplot as plt\n",
        "loss = hist.history['loss']\n",
        "val_loss = hist.history['val_loss']\n",
        "epochs = range(1, len(loss) + 1)\n",
        "plt.plot(epochs, loss, color='red', label='Training loss')\n",
        "plt.plot(epochs, val_loss, color='green', label='Validation loss')\n",
        "plt.title('Training and validation loss')\n",
        "plt.xlabel('Epochs')\n",
        "plt.ylabel('Loss')\n",
        "plt.legend()\n",
        "plt.show()"
      ],
      "execution_count": null,
      "outputs": []
    },
    {
      "cell_type": "markdown",
      "metadata": {
        "id": "PqhdS2foNCpw"
      },
      "source": [
        "## **Plotting Training & Validation Accuracy**"
      ]
    },
    {
      "cell_type": "code",
      "metadata": {
        "id": "MYdx3BSkNA6C"
      },
      "source": [
        "acc = hist.history['accuracy']\n",
        "val_acc = hist.history['val_accuracy']\n",
        "plt.plot(epochs, acc, color='red', label='Training acc')\n",
        "plt.plot(epochs, val_acc, color='green', label='Validation acc')\n",
        "plt.title('Training and validation accuracy')\n",
        "plt.xlabel('Epochs')\n",
        "plt.ylabel('Loss')\n",
        "plt.legend()\n",
        "plt.show()"
      ],
      "execution_count": null,
      "outputs": []
    },
    {
      "cell_type": "markdown",
      "metadata": {
        "id": "sh2P5NJYNJDP"
      },
      "source": [
        "## **Some Comparative Results of Radiologist vs CNN Model on Validation set**"
      ]
    },
    {
      "cell_type": "code",
      "metadata": {
        "id": "09dJy4Z_NGCB"
      },
      "source": [
        "class color:\n",
        "   GREEN = '\\033[92m'\n",
        "   RED = '\\033[91m'\n",
        "   \n",
        "from PIL import Image\n",
        "j = 0\n",
        "for i in os.listdir(\"/content/drive/MyDrive/Colab Notebooks/dl dataset/COVID-19-master/Val/Normal/\"):\n",
        "  j = j+1\n",
        "  pil_img = Image.open('/content/drive/MyDrive/Colab Notebooks/dl dataset/COVID-19-master/Val/Normal/'+i)\n",
        "  im = pil_img\n",
        "  size = (200,200) #image size\n",
        "  \n",
        "  #resize image\n",
        "  out = im.resize(size)\n",
        "  display(out)\n",
        "  img = image.load_img(\"/content/drive/MyDrive/Colab Notebooks/dl dataset/COVID-19-master/Val/Normal/\"+i, target_size = (224, 224))\n",
        "  img = image.img_to_array(img)\n",
        "  img = np.expand_dims(img, axis=0)\n",
        "  p = model.predict(img)\n",
        "  print(color.GREEN + 'Radiologist: COVID-19 -ve' + color.GREEN)\n",
        "\n",
        "  if p==0:\n",
        "    print(color.RED + 'CNN Model: COVID-19 +ve' + color.RED)\n",
        "  else:\n",
        "    print(\"CNN Model: COVID-19 -ve\")\n",
        "  if (j==5):\n",
        "    break\n",
        "\n",
        "from PIL import Image\n",
        "j = 0\n",
        "for i in os.listdir(\"/content/drive/MyDrive/Colab Notebooks/dl dataset/COVID-19-master/Val/Covid/\"):\n",
        "  j = j+1\n",
        "  pil_img = Image.open('/content/drive/MyDrive/Colab Notebooks/dl dataset/COVID-19-master/Val/Covid/'+i)\n",
        "  im = pil_img\n",
        "  size = (200,200) #image size\n",
        "  \n",
        "  #resize image\n",
        "  out = im.resize(size)\n",
        "  display(out)\n",
        "  img = image.load_img(\"/content/drive/MyDrive/Colab Notebooks/dl dataset/COVID-19-master/Val/Covid/\"+i, target_size = (224, 224))\n",
        "  img = image.img_to_array(img)\n",
        "  img = np.expand_dims(img, axis=0)\n",
        "  p = model.predict(img)\n",
        "  print(color.RED + 'Radiologist: COVID-19 +ve' + color.RED)\n",
        "  if p==0:\n",
        "    print(\"CNN Model: COVID-19 +ve\")\n",
        "  else:\n",
        "    print(color.GREEN + 'Radiologist: COVID-19 -ve' + color.GREEN)\n",
        "  if (j==5):\n",
        "    break"
      ],
      "execution_count": null,
      "outputs": []
    },
    {
      "cell_type": "code",
      "metadata": {
        "id": "OeYf0FMRNUGD"
      },
      "source": [
        ""
      ],
      "execution_count": null,
      "outputs": []
    }
  ]
}